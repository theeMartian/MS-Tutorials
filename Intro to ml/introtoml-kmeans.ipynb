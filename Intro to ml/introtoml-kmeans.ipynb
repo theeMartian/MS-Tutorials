{
 "cells": [
  {
   "cell_type": "code",
   "execution_count": 1,
   "id": "3b3fc385",
   "metadata": {
    "_cell_guid": "b1076dfc-b9ad-4769-8c92-a6c4dae69d19",
    "_uuid": "8f2839f25d086af736a60e9eeb907d3b93b6e0e5",
    "execution": {
     "iopub.execute_input": "2022-06-01T11:47:37.906899Z",
     "iopub.status.busy": "2022-06-01T11:47:37.906183Z",
     "iopub.status.idle": "2022-06-01T11:47:40.452299Z",
     "shell.execute_reply": "2022-06-01T11:47:40.451076Z"
    },
    "papermill": {
     "duration": 2.561492,
     "end_time": "2022-06-01T11:47:40.455506",
     "exception": false,
     "start_time": "2022-06-01T11:47:37.894014",
     "status": "completed"
    },
    "tags": []
   },
   "outputs": [],
   "source": [
    "import pandas as pd\n",
    "import numpy as np\n",
    "import matplotlib.pyplot as plt\n",
    "import seaborn as sns\n",
    "from sklearn.neighbors import KNeighborsClassifier\n",
    "from sklearn.preprocessing import scale\n",
    "from sklearn.model_selection import train_test_split\n",
    "from statsmodels.api import datasets\n",
    "\n",
    "import warnings\n",
    "warnings.filterwarnings('ignore')"
   ]
  },
  {
   "cell_type": "code",
   "execution_count": 2,
   "id": "53ec4ff3",
   "metadata": {
    "execution": {
     "iopub.execute_input": "2022-06-01T11:47:40.468877Z",
     "iopub.status.busy": "2022-06-01T11:47:40.468438Z",
     "iopub.status.idle": "2022-06-01T11:47:41.347648Z",
     "shell.execute_reply": "2022-06-01T11:47:41.346461Z"
    },
    "papermill": {
     "duration": 0.888422,
     "end_time": "2022-06-01T11:47:41.350204",
     "exception": false,
     "start_time": "2022-06-01T11:47:40.461782",
     "status": "completed"
    },
    "tags": []
   },
   "outputs": [
    {
     "data": {
      "text/html": [
       "<div>\n",
       "<style scoped>\n",
       "    .dataframe tbody tr th:only-of-type {\n",
       "        vertical-align: middle;\n",
       "    }\n",
       "\n",
       "    .dataframe tbody tr th {\n",
       "        vertical-align: top;\n",
       "    }\n",
       "\n",
       "    .dataframe thead th {\n",
       "        text-align: right;\n",
       "    }\n",
       "</style>\n",
       "<table border=\"1\" class=\"dataframe\">\n",
       "  <thead>\n",
       "    <tr style=\"text-align: right;\">\n",
       "      <th></th>\n",
       "      <th>Sepal_Length</th>\n",
       "      <th>Sepal_Width</th>\n",
       "      <th>Petal_Length</th>\n",
       "      <th>Petal_Width</th>\n",
       "      <th>Species</th>\n",
       "    </tr>\n",
       "  </thead>\n",
       "  <tbody>\n",
       "    <tr>\n",
       "      <th>0</th>\n",
       "      <td>5.1</td>\n",
       "      <td>3.5</td>\n",
       "      <td>1.4</td>\n",
       "      <td>0.2</td>\n",
       "      <td>setosa</td>\n",
       "    </tr>\n",
       "    <tr>\n",
       "      <th>1</th>\n",
       "      <td>4.9</td>\n",
       "      <td>3.0</td>\n",
       "      <td>1.4</td>\n",
       "      <td>0.2</td>\n",
       "      <td>setosa</td>\n",
       "    </tr>\n",
       "    <tr>\n",
       "      <th>2</th>\n",
       "      <td>4.7</td>\n",
       "      <td>3.2</td>\n",
       "      <td>1.3</td>\n",
       "      <td>0.2</td>\n",
       "      <td>setosa</td>\n",
       "    </tr>\n",
       "    <tr>\n",
       "      <th>3</th>\n",
       "      <td>4.6</td>\n",
       "      <td>3.1</td>\n",
       "      <td>1.5</td>\n",
       "      <td>0.2</td>\n",
       "      <td>setosa</td>\n",
       "    </tr>\n",
       "    <tr>\n",
       "      <th>4</th>\n",
       "      <td>5.0</td>\n",
       "      <td>3.6</td>\n",
       "      <td>1.4</td>\n",
       "      <td>0.2</td>\n",
       "      <td>setosa</td>\n",
       "    </tr>\n",
       "  </tbody>\n",
       "</table>\n",
       "</div>"
      ],
      "text/plain": [
       "   Sepal_Length  Sepal_Width  Petal_Length  Petal_Width Species\n",
       "0           5.1          3.5           1.4          0.2  setosa\n",
       "1           4.9          3.0           1.4          0.2  setosa\n",
       "2           4.7          3.2           1.3          0.2  setosa\n",
       "3           4.6          3.1           1.5          0.2  setosa\n",
       "4           5.0          3.6           1.4          0.2  setosa"
      ]
     },
     "execution_count": 2,
     "metadata": {},
     "output_type": "execute_result"
    }
   ],
   "source": [
    "# Import the data\n",
    "iris = datasets.get_rdataset('iris')\n",
    "iris.data.columns = ['Sepal_Length', 'Sepal_Width', 'Petal_Length', 'Petal_Width', 'Species']\n",
    "iris.data.head()"
   ]
  },
  {
   "cell_type": "code",
   "execution_count": 3,
   "id": "9ed1af3c",
   "metadata": {
    "execution": {
     "iopub.execute_input": "2022-06-01T11:47:41.363162Z",
     "iopub.status.busy": "2022-06-01T11:47:41.362727Z",
     "iopub.status.idle": "2022-06-01T11:47:41.370067Z",
     "shell.execute_reply": "2022-06-01T11:47:41.369404Z"
    },
    "papermill": {
     "duration": 0.016414,
     "end_time": "2022-06-01T11:47:41.372220",
     "exception": false,
     "start_time": "2022-06-01T11:47:41.355806",
     "status": "completed"
    },
    "tags": []
   },
   "outputs": [
    {
     "data": {
      "text/plain": [
       "Sepal_Length    float64\n",
       "Sepal_Width     float64\n",
       "Petal_Length    float64\n",
       "Petal_Width     float64\n",
       "Species          object\n",
       "dtype: object"
      ]
     },
     "execution_count": 3,
     "metadata": {},
     "output_type": "execute_result"
    }
   ],
   "source": [
    "# get the datatypes\n",
    "iris.data.dtypes"
   ]
  },
  {
   "cell_type": "markdown",
   "id": "b4d19103",
   "metadata": {
    "papermill": {
     "duration": 0.005146,
     "end_time": "2022-06-01T11:47:41.382863",
     "exception": false,
     "start_time": "2022-06-01T11:47:41.377717",
     "status": "completed"
    },
    "tags": []
   },
   "source": [
    "- The features are all numerical columns, the label is a string categorical variable.\n",
    "\n",
    "- Next, determine the number of unique categories and number of cases in each unique category."
   ]
  },
  {
   "cell_type": "code",
   "execution_count": 4,
   "id": "4c6430a8",
   "metadata": {
    "execution": {
     "iopub.execute_input": "2022-06-01T11:47:41.396241Z",
     "iopub.status.busy": "2022-06-01T11:47:41.395538Z",
     "iopub.status.idle": "2022-06-01T11:47:41.407541Z",
     "shell.execute_reply": "2022-06-01T11:47:41.406742Z"
    },
    "papermill": {
     "duration": 0.021225,
     "end_time": "2022-06-01T11:47:41.409654",
     "exception": false,
     "start_time": "2022-06-01T11:47:41.388429",
     "status": "completed"
    },
    "tags": []
   },
   "outputs": [
    {
     "data": {
      "text/html": [
       "<div>\n",
       "<style scoped>\n",
       "    .dataframe tbody tr th:only-of-type {\n",
       "        vertical-align: middle;\n",
       "    }\n",
       "\n",
       "    .dataframe tbody tr th {\n",
       "        vertical-align: top;\n",
       "    }\n",
       "\n",
       "    .dataframe thead th {\n",
       "        text-align: right;\n",
       "    }\n",
       "</style>\n",
       "<table border=\"1\" class=\"dataframe\">\n",
       "  <thead>\n",
       "    <tr style=\"text-align: right;\">\n",
       "      <th></th>\n",
       "      <th>Count</th>\n",
       "    </tr>\n",
       "    <tr>\n",
       "      <th>Species</th>\n",
       "      <th></th>\n",
       "    </tr>\n",
       "  </thead>\n",
       "  <tbody>\n",
       "    <tr>\n",
       "      <th>setosa</th>\n",
       "      <td>50</td>\n",
       "    </tr>\n",
       "    <tr>\n",
       "      <th>versicolor</th>\n",
       "      <td>50</td>\n",
       "    </tr>\n",
       "    <tr>\n",
       "      <th>virginica</th>\n",
       "      <td>50</td>\n",
       "    </tr>\n",
       "  </tbody>\n",
       "</table>\n",
       "</div>"
      ],
      "text/plain": [
       "            Count\n",
       "Species          \n",
       "setosa         50\n",
       "versicolor     50\n",
       "virginica      50"
      ]
     },
     "execution_count": 4,
     "metadata": {},
     "output_type": "execute_result"
    }
   ],
   "source": [
    "iris.data['Count'] = 1\n",
    "iris.data[['Species', 'Count']].groupby('Species').count()"
   ]
  },
  {
   "cell_type": "code",
   "execution_count": 5,
   "id": "df5d0b1e",
   "metadata": {
    "execution": {
     "iopub.execute_input": "2022-06-01T11:47:41.425474Z",
     "iopub.status.busy": "2022-06-01T11:47:41.424739Z",
     "iopub.status.idle": "2022-06-01T11:47:42.492903Z",
     "shell.execute_reply": "2022-06-01T11:47:42.492157Z"
    },
    "papermill": {
     "duration": 1.078536,
     "end_time": "2022-06-01T11:47:42.495026",
     "exception": false,
     "start_time": "2022-06-01T11:47:41.416490",
     "status": "completed"
    },
    "tags": []
   },
   "outputs": [
    {
     "data": {
      "image/png": "[encoded data removed]",
      "text/plain": [
       "<Figure size 444.75x360 with 1 Axes>"
      ]
     },
     "metadata": {
      "needs_background": "light"
     },
     "output_type": "display_data"
    },
    {
     "data": {
      "image/png": "[encoded data removed]",
      "text/plain": [
       "<Figure size 444.75x360 with 1 Axes>"
      ]
     },
     "metadata": {
      "needs_background": "light"
     },
     "output_type": "display_data"
    }
   ],
   "source": [
    "# Let's do some plotting\n",
    "%matplotlib inline\n",
    "def plot_iris(iris, col1, col2):\n",
    "    sns.lmplot(x=col1,\n",
    "              y=col2, \n",
    "              data=iris,\n",
    "              hue='Species',\n",
    "              fit_reg=False)\n",
    "    plt.xlabel(col1)\n",
    "    plt.ylabel(col2)\n",
    "    plt.title(\"Iris species shown by color\")\n",
    "    plt.show()\n",
    "    \n",
    "plot_iris(iris.data, 'Petal_Width', 'Sepal_Length')\n",
    "plot_iris(iris.data, 'Sepal_Width', 'Sepal_Length')\n"
   ]
  },
  {
   "cell_type": "markdown",
   "id": "e16dc213",
   "metadata": {
    "papermill": {
     "duration": 0.006325,
     "end_time": "2022-06-01T11:47:42.507973",
     "exception": false,
     "start_time": "2022-06-01T11:47:42.501648",
     "status": "completed"
    },
    "tags": []
   },
   "source": [
    "### Prepare the dataset"
   ]
  },
  {
   "cell_type": "code",
   "execution_count": 6,
   "id": "42c0e753",
   "metadata": {
    "execution": {
     "iopub.execute_input": "2022-06-01T11:47:42.523436Z",
     "iopub.status.busy": "2022-06-01T11:47:42.522872Z",
     "iopub.status.idle": "2022-06-01T11:47:42.549713Z",
     "shell.execute_reply": "2022-06-01T11:47:42.548536Z"
    },
    "papermill": {
     "duration": 0.037667,
     "end_time": "2022-06-01T11:47:42.552392",
     "exception": false,
     "start_time": "2022-06-01T11:47:42.514725",
     "status": "completed"
    },
    "tags": []
   },
   "outputs": [
    {
     "name": "stdout",
     "output_type": "stream",
     "text": [
      "       Sepal_Length  Sepal_Width  Petal_Length  Petal_Width\n",
      "count       150.000      150.000       150.000      150.000\n",
      "mean         -0.000       -0.000        -0.000       -0.000\n",
      "std           1.003        1.003         1.003        1.003\n",
      "min          -1.870       -2.434        -1.568       -1.447\n",
      "25%          -0.901       -0.592        -1.227       -1.184\n",
      "50%          -0.053       -0.132         0.336        0.133\n",
      "75%           0.675        0.559         0.763        0.791\n",
      "max           2.492        3.091         1.786        1.712\n"
     ]
    }
   ],
   "source": [
    "num_cols = ['Sepal_Length', 'Sepal_Width', 'Petal_Length', 'Petal_Width']\n",
    "\n",
    "iris_scaled = scale(iris.data[num_cols])\n",
    "iris_scaled = pd.DataFrame(iris_scaled, columns = num_cols)\n",
    "print(iris_scaled.describe().round(3))"
   ]
  },
  {
   "cell_type": "code",
   "execution_count": 7,
   "id": "cb79d2f3",
   "metadata": {
    "execution": {
     "iopub.execute_input": "2022-06-01T11:47:42.567967Z",
     "iopub.status.busy": "2022-06-01T11:47:42.567522Z",
     "iopub.status.idle": "2022-06-01T11:47:42.581331Z",
     "shell.execute_reply": "2022-06-01T11:47:42.580321Z"
    },
    "papermill": {
     "duration": 0.02573,
     "end_time": "2022-06-01T11:47:42.585076",
     "exception": false,
     "start_time": "2022-06-01T11:47:42.559346",
     "status": "completed"
    },
    "tags": []
   },
   "outputs": [
    {
     "data": {
      "text/html": [
       "<div>\n",
       "<style scoped>\n",
       "    .dataframe tbody tr th:only-of-type {\n",
       "        vertical-align: middle;\n",
       "    }\n",
       "\n",
       "    .dataframe tbody tr th {\n",
       "        vertical-align: top;\n",
       "    }\n",
       "\n",
       "    .dataframe thead th {\n",
       "        text-align: right;\n",
       "    }\n",
       "</style>\n",
       "<table border=\"1\" class=\"dataframe\">\n",
       "  <thead>\n",
       "    <tr style=\"text-align: right;\">\n",
       "      <th></th>\n",
       "      <th>Sepal_Length</th>\n",
       "      <th>Sepal_Width</th>\n",
       "      <th>Petal_Length</th>\n",
       "      <th>Petal_Width</th>\n",
       "      <th>Species</th>\n",
       "    </tr>\n",
       "  </thead>\n",
       "  <tbody>\n",
       "    <tr>\n",
       "      <th>0</th>\n",
       "      <td>-0.900681</td>\n",
       "      <td>1.019004</td>\n",
       "      <td>-1.340227</td>\n",
       "      <td>-1.315444</td>\n",
       "      <td>0</td>\n",
       "    </tr>\n",
       "    <tr>\n",
       "      <th>1</th>\n",
       "      <td>-1.143017</td>\n",
       "      <td>-0.131979</td>\n",
       "      <td>-1.340227</td>\n",
       "      <td>-1.315444</td>\n",
       "      <td>0</td>\n",
       "    </tr>\n",
       "    <tr>\n",
       "      <th>2</th>\n",
       "      <td>-1.385353</td>\n",
       "      <td>0.328414</td>\n",
       "      <td>-1.397064</td>\n",
       "      <td>-1.315444</td>\n",
       "      <td>0</td>\n",
       "    </tr>\n",
       "    <tr>\n",
       "      <th>3</th>\n",
       "      <td>-1.506521</td>\n",
       "      <td>0.098217</td>\n",
       "      <td>-1.283389</td>\n",
       "      <td>-1.315444</td>\n",
       "      <td>0</td>\n",
       "    </tr>\n",
       "    <tr>\n",
       "      <th>4</th>\n",
       "      <td>-1.021849</td>\n",
       "      <td>1.249201</td>\n",
       "      <td>-1.340227</td>\n",
       "      <td>-1.315444</td>\n",
       "      <td>0</td>\n",
       "    </tr>\n",
       "  </tbody>\n",
       "</table>\n",
       "</div>"
      ],
      "text/plain": [
       "   Sepal_Length  Sepal_Width  Petal_Length  Petal_Width  Species\n",
       "0     -0.900681     1.019004     -1.340227    -1.315444        0\n",
       "1     -1.143017    -0.131979     -1.340227    -1.315444        0\n",
       "2     -1.385353     0.328414     -1.397064    -1.315444        0\n",
       "3     -1.506521     0.098217     -1.283389    -1.315444        0\n",
       "4     -1.021849     1.249201     -1.340227    -1.315444        0"
      ]
     },
     "execution_count": 7,
     "metadata": {},
     "output_type": "execute_result"
    }
   ],
   "source": [
    "# We'll have to label encode our Species column as scikit learn methods\n",
    "# expect numerical numpy arrays as arguments\n",
    "levels = {'setosa':0, 'versicolor':1, 'virginica':2}\n",
    "iris_scaled['Species'] = [levels[x] for x in iris.data['Species']]\n",
    "iris_scaled.head()\n"
   ]
  },
  {
   "cell_type": "markdown",
   "id": "2ba7d242",
   "metadata": {
    "papermill": {
     "duration": 0.006575,
     "end_time": "2022-06-01T11:47:42.598464",
     "exception": false,
     "start_time": "2022-06-01T11:47:42.591889",
     "status": "completed"
    },
    "tags": []
   },
   "source": [
    "- Splitting the data before fitting it into our model "
   ]
  },
  {
   "cell_type": "code",
   "execution_count": 8,
   "id": "6c61231f",
   "metadata": {
    "execution": {
     "iopub.execute_input": "2022-06-01T11:47:42.614244Z",
     "iopub.status.busy": "2022-06-01T11:47:42.613510Z",
     "iopub.status.idle": "2022-06-01T11:47:42.623082Z",
     "shell.execute_reply": "2022-06-01T11:47:42.621888Z"
    },
    "papermill": {
     "duration": 0.020174,
     "end_time": "2022-06-01T11:47:42.625511",
     "exception": false,
     "start_time": "2022-06-01T11:47:42.605337",
     "status": "completed"
    },
    "tags": []
   },
   "outputs": [
    {
     "name": "stdout",
     "output_type": "stream",
     "text": [
      "(75, 4)\n",
      "(75,)\n",
      "(75, 4)\n",
      "(75,)\n"
     ]
    }
   ],
   "source": [
    "# Using Bernoulli sampling technique split the data into train and test sets\n",
    "np.random.seed(3456)\n",
    "iris_split = train_test_split(np.asmatrix(iris_scaled), test_size=75)\n",
    "iris_train_features = iris_split[0][:, :4]\n",
    "iris_train_labels = np.ravel(iris_split[0][:, 4]) # we want a 1d numpy array \n",
    "iris_test_features = iris_split[1][:, :4]\n",
    "iris_test_labels = np.ravel(iris_split[1][:, 4])\n",
    "\n",
    "print(iris_train_features.shape)\n",
    "print(iris_train_labels.shape)\n",
    "print(iris_test_features.shape)\n",
    "print(iris_test_labels.shape)"
   ]
  },
  {
   "cell_type": "markdown",
   "id": "d1d6ca04",
   "metadata": {
    "papermill": {
     "duration": 0.006469,
     "end_time": "2022-06-01T11:47:42.638931",
     "exception": false,
     "start_time": "2022-06-01T11:47:42.632462",
     "status": "completed"
    },
    "tags": []
   },
   "source": [
    "### Training and evaluating a KNN model"
   ]
  },
  {
   "cell_type": "code",
   "execution_count": 9,
   "id": "e1695d97",
   "metadata": {
    "execution": {
     "iopub.execute_input": "2022-06-01T11:47:42.659645Z",
     "iopub.status.busy": "2022-06-01T11:47:42.658373Z",
     "iopub.status.idle": "2022-06-01T11:47:42.673324Z",
     "shell.execute_reply": "2022-06-01T11:47:42.672449Z"
    },
    "papermill": {
     "duration": 0.025822,
     "end_time": "2022-06-01T11:47:42.675417",
     "exception": false,
     "start_time": "2022-06-01T11:47:42.649595",
     "status": "completed"
    },
    "tags": []
   },
   "outputs": [
    {
     "data": {
      "text/plain": [
       "KNeighborsClassifier(n_neighbors=3)"
      ]
     },
     "execution_count": 9,
     "metadata": {},
     "output_type": "execute_result"
    }
   ],
   "source": [
    "KNN_mod = KNeighborsClassifier(n_neighbors=3)\n",
    "KNN_mod.fit(iris_train_features, iris_train_labels)"
   ]
  },
  {
   "cell_type": "code",
   "execution_count": 10,
   "id": "db28417b",
   "metadata": {
    "execution": {
     "iopub.execute_input": "2022-06-01T11:47:42.691612Z",
     "iopub.status.busy": "2022-06-01T11:47:42.691012Z",
     "iopub.status.idle": "2022-06-01T11:47:42.704344Z",
     "shell.execute_reply": "2022-06-01T11:47:42.703360Z"
    },
    "papermill": {
     "duration": 0.024117,
     "end_time": "2022-06-01T11:47:42.706793",
     "exception": false,
     "start_time": "2022-06-01T11:47:42.682676",
     "status": "completed"
    },
    "tags": []
   },
   "outputs": [
    {
     "name": "stdout",
     "output_type": "stream",
     "text": [
      "Accuracy = 96.0\n"
     ]
    }
   ],
   "source": [
    "iris_test = pd.DataFrame(iris_test_features, columns = num_cols)\n",
    "iris_test['Predicted'] = KNN_mod.predict(iris_test_features)\n",
    "iris_test['Correct'] = [1 if x == z else 0 for x, z in zip(iris_test['Predicted'], iris_test_labels)]\n",
    "accuracy = 100.0 * float(sum(iris_test['Correct'])) / float(iris_test.shape[0])\n",
    "print(f\"Accuracy = {accuracy}\")"
   ]
  },
  {
   "cell_type": "markdown",
   "id": "2d5c5520",
   "metadata": {
    "papermill": {
     "duration": 0.006704,
     "end_time": "2022-06-01T11:47:42.720647",
     "exception": false,
     "start_time": "2022-06-01T11:47:42.713943",
     "status": "completed"
    },
    "tags": []
   },
   "source": [
    "- We have a pretty good accuracy\n",
    "- Let's plot the classification of the iris species"
   ]
  },
  {
   "cell_type": "code",
   "execution_count": 11,
   "id": "7f1537d4",
   "metadata": {
    "execution": {
     "iopub.execute_input": "2022-06-01T11:47:42.736931Z",
     "iopub.status.busy": "2022-06-01T11:47:42.735822Z",
     "iopub.status.idle": "2022-06-01T11:47:43.135852Z",
     "shell.execute_reply": "2022-06-01T11:47:43.133714Z"
    },
    "papermill": {
     "duration": 0.410712,
     "end_time": "2022-06-01T11:47:43.138354",
     "exception": false,
     "start_time": "2022-06-01T11:47:42.727642",
     "status": "completed"
    },
    "tags": []
   },
   "outputs": [
    {
     "data": {
      "text/plain": [
       "'done!'"
      ]
     },
     "execution_count": 11,
     "metadata": {},
     "output_type": "execute_result"
    },
    {
     "data": {
      "image/png": "[encoded data removed]",
      "text/plain": [
       "<Figure size 432x432 with 1 Axes>"
      ]
     },
     "metadata": {
      "needs_background": "light"
     },
     "output_type": "display_data"
    },
    {
     "data": {
      "image/png": "[encoded data removed]",
      "text/plain": [
       "<Figure size 432x432 with 1 Axes>"
      ]
     },
     "metadata": {
      "needs_background": "light"
     },
     "output_type": "display_data"
    }
   ],
   "source": [
    "levels = {0:'setosa', 1:'versicolor', 2:'virginica'}\n",
    "iris_test['Species'] = [levels[x] for x in iris_test['Predicted']]\n",
    "markers = {1:'^', 0:'o'}\n",
    "colors = {'setosa':'blue', 'versicolor':'green', 'virginica':'red'}\n",
    "def plot_shapes(df, col1, col2, markers, colors):\n",
    "    ax = plt.figure(figsize=(6, 6)).gca()  # define plot axis\n",
    "    for m in markers:\n",
    "        for c in colors:\n",
    "            df_temp = df[(df['Correct'] == m) & (df['Species'] == c)]\n",
    "            sns.regplot(x = col1, y = col2,\n",
    "                        data = df_temp,\n",
    "                        fit_reg = False,\n",
    "                        scatter_kws = {'color':colors[c]},\n",
    "                        marker = markers[m],\n",
    "                        ax  = ax\n",
    "                       )\n",
    "    plt.xlabel(col1)\n",
    "    plt.ylabel(col2)\n",
    "    plt.title(\"Iris species by color\")\n",
    "    return 'done!'\n",
    "\n",
    "plot_shapes(iris_test, 'Petal_Width', 'Sepal_Length', markers, colors)\n",
    "plot_shapes(iris_test, 'Sepal_Width', 'Sepal_Length', markers, colors)"
   ]
  },
  {
   "cell_type": "code",
   "execution_count": null,
   "id": "e0559144",
   "metadata": {
    "papermill": {
     "duration": 0.009154,
     "end_time": "2022-06-01T11:47:43.155942",
     "exception": false,
     "start_time": "2022-06-01T11:47:43.146788",
     "status": "completed"
    },
    "tags": []
   },
   "outputs": [],
   "source": []
  }
 ],
 "metadata": {
  "kernelspec": {
   "display_name": "Python 3",
   "language": "python",
   "name": "python3"
  },
  "language_info": {
   "codemirror_mode": {
    "name": "ipython",
    "version": 3
   },
   "file_extension": ".py",
   "mimetype": "text/x-python",
   "name": "python",
   "nbconvert_exporter": "python",
   "pygments_lexer": "ipython3",
   "version": "3.7.12"
  },
  "papermill": {
   "default_parameters": {},
   "duration": 18.060552,
   "end_time": "2022-06-01T11:47:44.089142",
   "environment_variables": {},
   "exception": null,
   "input_path": "__notebook__.ipynb",
   "output_path": "__notebook__.ipynb",
   "parameters": {},
   "start_time": "2022-06-01T11:47:26.028590",
   "version": "2.3.4"
  }
 },
 "nbformat": 4,
 "nbformat_minor": 5
}
